{
 "cells": [
  {
   "cell_type": "code",
   "execution_count": 1,
   "id": "3c7dff41-5af5-4d41-984f-26722ff26a02",
   "metadata": {
    "tags": []
   },
   "outputs": [],
   "source": [
    "import pandas as pd\n",
    "import numpy as np\n",
    "import matplotlib.pyplot as plt\n",
    "import seaborn as sns"
   ]
  },
  {
   "cell_type": "code",
   "execution_count": 2,
   "id": "a9b3f022-a22a-4fa0-ae79-0e2c290c9b23",
   "metadata": {
    "tags": []
   },
   "outputs": [
    {
     "name": "stdout",
     "output_type": "stream",
     "text": [
      "<class 'pandas.core.frame.DataFrame'>\n",
      "RangeIndex: 2200 entries, 0 to 2199\n",
      "Data columns (total 8 columns):\n",
      " #   Column       Non-Null Count  Dtype  \n",
      "---  ------       --------------  -----  \n",
      " 0   N            2200 non-null   int64  \n",
      " 1   P            2200 non-null   int64  \n",
      " 2   K            2200 non-null   int64  \n",
      " 3   temperature  2200 non-null   float64\n",
      " 4   humidity     2200 non-null   float64\n",
      " 5   ph           2200 non-null   float64\n",
      " 6   rainfall     2200 non-null   float64\n",
      " 7   label        2200 non-null   object \n",
      "dtypes: float64(4), int64(3), object(1)\n",
      "memory usage: 137.6+ KB\n"
     ]
    }
   ],
   "source": [
    "cp=pd.read_csv('cp.csv')\n",
    "cp.info()"
   ]
  },
  {
   "cell_type": "code",
   "execution_count": 3,
   "id": "f35bea17",
   "metadata": {},
   "outputs": [
    {
     "data": {
      "text/html": [
       "<div>\n",
       "<style scoped>\n",
       "    .dataframe tbody tr th:only-of-type {\n",
       "        vertical-align: middle;\n",
       "    }\n",
       "\n",
       "    .dataframe tbody tr th {\n",
       "        vertical-align: top;\n",
       "    }\n",
       "\n",
       "    .dataframe thead th {\n",
       "        text-align: right;\n",
       "    }\n",
       "</style>\n",
       "<table border=\"1\" class=\"dataframe\">\n",
       "  <thead>\n",
       "    <tr style=\"text-align: right;\">\n",
       "      <th></th>\n",
       "      <th>N</th>\n",
       "      <th>P</th>\n",
       "      <th>K</th>\n",
       "      <th>temperature</th>\n",
       "      <th>humidity</th>\n",
       "      <th>ph</th>\n",
       "      <th>rainfall</th>\n",
       "      <th>label</th>\n",
       "    </tr>\n",
       "  </thead>\n",
       "  <tbody>\n",
       "    <tr>\n",
       "      <th>0</th>\n",
       "      <td>90</td>\n",
       "      <td>42</td>\n",
       "      <td>43</td>\n",
       "      <td>20.879744</td>\n",
       "      <td>82.002744</td>\n",
       "      <td>6.502985</td>\n",
       "      <td>202.935536</td>\n",
       "      <td>rice</td>\n",
       "    </tr>\n",
       "    <tr>\n",
       "      <th>1</th>\n",
       "      <td>85</td>\n",
       "      <td>58</td>\n",
       "      <td>41</td>\n",
       "      <td>21.770462</td>\n",
       "      <td>80.319644</td>\n",
       "      <td>7.038096</td>\n",
       "      <td>226.655537</td>\n",
       "      <td>rice</td>\n",
       "    </tr>\n",
       "    <tr>\n",
       "      <th>2</th>\n",
       "      <td>60</td>\n",
       "      <td>55</td>\n",
       "      <td>44</td>\n",
       "      <td>23.004459</td>\n",
       "      <td>82.320763</td>\n",
       "      <td>7.840207</td>\n",
       "      <td>263.964248</td>\n",
       "      <td>rice</td>\n",
       "    </tr>\n",
       "    <tr>\n",
       "      <th>3</th>\n",
       "      <td>74</td>\n",
       "      <td>35</td>\n",
       "      <td>40</td>\n",
       "      <td>26.491096</td>\n",
       "      <td>80.158363</td>\n",
       "      <td>6.980401</td>\n",
       "      <td>242.864034</td>\n",
       "      <td>rice</td>\n",
       "    </tr>\n",
       "    <tr>\n",
       "      <th>4</th>\n",
       "      <td>78</td>\n",
       "      <td>42</td>\n",
       "      <td>42</td>\n",
       "      <td>20.130175</td>\n",
       "      <td>81.604873</td>\n",
       "      <td>7.628473</td>\n",
       "      <td>262.717340</td>\n",
       "      <td>rice</td>\n",
       "    </tr>\n",
       "    <tr>\n",
       "      <th>...</th>\n",
       "      <td>...</td>\n",
       "      <td>...</td>\n",
       "      <td>...</td>\n",
       "      <td>...</td>\n",
       "      <td>...</td>\n",
       "      <td>...</td>\n",
       "      <td>...</td>\n",
       "      <td>...</td>\n",
       "    </tr>\n",
       "    <tr>\n",
       "      <th>2195</th>\n",
       "      <td>107</td>\n",
       "      <td>34</td>\n",
       "      <td>32</td>\n",
       "      <td>26.774637</td>\n",
       "      <td>66.413269</td>\n",
       "      <td>6.780064</td>\n",
       "      <td>177.774507</td>\n",
       "      <td>coffee</td>\n",
       "    </tr>\n",
       "    <tr>\n",
       "      <th>2196</th>\n",
       "      <td>99</td>\n",
       "      <td>15</td>\n",
       "      <td>27</td>\n",
       "      <td>27.417112</td>\n",
       "      <td>56.636362</td>\n",
       "      <td>6.086922</td>\n",
       "      <td>127.924610</td>\n",
       "      <td>coffee</td>\n",
       "    </tr>\n",
       "    <tr>\n",
       "      <th>2197</th>\n",
       "      <td>118</td>\n",
       "      <td>33</td>\n",
       "      <td>30</td>\n",
       "      <td>24.131797</td>\n",
       "      <td>67.225123</td>\n",
       "      <td>6.362608</td>\n",
       "      <td>173.322839</td>\n",
       "      <td>coffee</td>\n",
       "    </tr>\n",
       "    <tr>\n",
       "      <th>2198</th>\n",
       "      <td>117</td>\n",
       "      <td>32</td>\n",
       "      <td>34</td>\n",
       "      <td>26.272418</td>\n",
       "      <td>52.127394</td>\n",
       "      <td>6.758793</td>\n",
       "      <td>127.175293</td>\n",
       "      <td>coffee</td>\n",
       "    </tr>\n",
       "    <tr>\n",
       "      <th>2199</th>\n",
       "      <td>104</td>\n",
       "      <td>18</td>\n",
       "      <td>30</td>\n",
       "      <td>23.603016</td>\n",
       "      <td>60.396475</td>\n",
       "      <td>6.779833</td>\n",
       "      <td>140.937041</td>\n",
       "      <td>coffee</td>\n",
       "    </tr>\n",
       "  </tbody>\n",
       "</table>\n",
       "<p>2200 rows × 8 columns</p>\n",
       "</div>"
      ],
      "text/plain": [
       "        N   P   K  temperature   humidity        ph    rainfall   label\n",
       "0      90  42  43    20.879744  82.002744  6.502985  202.935536    rice\n",
       "1      85  58  41    21.770462  80.319644  7.038096  226.655537    rice\n",
       "2      60  55  44    23.004459  82.320763  7.840207  263.964248    rice\n",
       "3      74  35  40    26.491096  80.158363  6.980401  242.864034    rice\n",
       "4      78  42  42    20.130175  81.604873  7.628473  262.717340    rice\n",
       "...   ...  ..  ..          ...        ...       ...         ...     ...\n",
       "2195  107  34  32    26.774637  66.413269  6.780064  177.774507  coffee\n",
       "2196   99  15  27    27.417112  56.636362  6.086922  127.924610  coffee\n",
       "2197  118  33  30    24.131797  67.225123  6.362608  173.322839  coffee\n",
       "2198  117  32  34    26.272418  52.127394  6.758793  127.175293  coffee\n",
       "2199  104  18  30    23.603016  60.396475  6.779833  140.937041  coffee\n",
       "\n",
       "[2200 rows x 8 columns]"
      ]
     },
     "execution_count": 3,
     "metadata": {},
     "output_type": "execute_result"
    }
   ],
   "source": [
    "cp"
   ]
  },
  {
   "cell_type": "markdown",
   "id": "08df7db7-4664-4651-b699-57c4fef2b83e",
   "metadata": {},
   "source": [
    "#features detail\n",
    "1. N nitrogen ratio in the soil\n",
    "2. K potassium ratio in the soil\n",
    "3. P phosphurous ratio in the soil\n",
    "4. Temperature in the Celsius \n",
    "5. humidity in the %\n",
    "6. ph value in the soil\n",
    "7. raonfall in the mm\n",
    "8. label value as per the prediction"
   ]
  },
  {
   "cell_type": "code",
   "execution_count": 4,
   "id": "db171242-c6b2-4215-aeb4-4b4162437ea2",
   "metadata": {
    "tags": []
   },
   "outputs": [
    {
     "data": {
      "text/plain": [
       "rice           100\n",
       "maize          100\n",
       "jute           100\n",
       "cotton         100\n",
       "coconut        100\n",
       "papaya         100\n",
       "orange         100\n",
       "apple          100\n",
       "muskmelon      100\n",
       "watermelon     100\n",
       "grapes         100\n",
       "mango          100\n",
       "banana         100\n",
       "pomegranate    100\n",
       "lentil         100\n",
       "blackgram      100\n",
       "mungbean       100\n",
       "mothbeans      100\n",
       "pigeonpeas     100\n",
       "kidneybeans    100\n",
       "chickpea       100\n",
       "coffee         100\n",
       "Name: label, dtype: int64"
      ]
     },
     "execution_count": 4,
     "metadata": {},
     "output_type": "execute_result"
    }
   ],
   "source": [
    "#printing of the labels\n",
    "cp['label'].value_counts()"
   ]
  },
  {
   "cell_type": "code",
   "execution_count": 5,
   "id": "94a92357-3ab4-4790-b866-f050bcd0d791",
   "metadata": {
    "tags": []
   },
   "outputs": [],
   "source": [
    "X=cp.drop('label', axis=1)\n",
    "y=cp['label']"
   ]
  },
  {
   "cell_type": "code",
   "execution_count": 6,
   "id": "d1bc4d9e-ce7b-4a5a-a681-ff3416a6ff83",
   "metadata": {
    "tags": []
   },
   "outputs": [
    {
     "data": {
      "image/png": "[encoded data removed]",
      "text/plain": [
       "<Figure size 1152x576 with 2 Axes>"
      ]
     },
     "metadata": {
      "needs_background": "light"
     },
     "output_type": "display_data"
    }
   ],
   "source": [
    "#maping of the heatmap\n",
    "plt.figure(figsize=(16,8))\n",
    "sns.heatmap(X.corr(), annot=True, cmap='turbo', fmt = '.0%')\n",
    "plt.show()"
   ]
  },
  {
   "cell_type": "code",
   "execution_count": 7,
   "id": "bf213ced-b0fb-4ad0-975c-20632c12bf1b",
   "metadata": {
    "tags": []
   },
   "outputs": [
    {
     "data": {
      "text/plain": [
       "<Figure size 1152x576 with 0 Axes>"
      ]
     },
     "metadata": {},
     "output_type": "display_data"
    },
    {
     "data": {
      "image/png": "[encoded data removed]",
      "text/plain": [
       "<Figure size 720x720 with 4 Axes>"
      ]
     },
     "metadata": {
      "needs_background": "light"
     },
     "output_type": "display_data"
    }
   ],
   "source": [
    "plt.figure(figsize=(16,8))\n",
    "sns.clustermap(X.corr(), annot=True, fmt = '.0%')\n",
    "plt.show()"
   ]
  },
  {
   "cell_type": "code",
   "execution_count": 8,
   "id": "8cfcc90d-da16-403f-bd94-5980837155ee",
   "metadata": {
    "tags": []
   },
   "outputs": [
    {
     "data": {
      "text/plain": [
       "Index(['N', 'P', 'K', 'temperature', 'humidity', 'ph', 'rainfall', 'label'], dtype='object')"
      ]
     },
     "execution_count": 8,
     "metadata": {},
     "output_type": "execute_result"
    }
   ],
   "source": [
    "# pd.DataFrame(index='index',\n",
    "#             column =cp.drop())\n",
    "cp.columns"
   ]
  },
  {
   "cell_type": "code",
   "execution_count": 9,
   "id": "ec27bb68-6653-4dc1-82c2-472f6382494c",
   "metadata": {
    "tags": []
   },
   "outputs": [
    {
     "data": {
      "text/html": [
       "<div>\n",
       "<style scoped>\n",
       "    .dataframe tbody tr th:only-of-type {\n",
       "        vertical-align: middle;\n",
       "    }\n",
       "\n",
       "    .dataframe tbody tr th {\n",
       "        vertical-align: top;\n",
       "    }\n",
       "\n",
       "    .dataframe thead tr th {\n",
       "        text-align: left;\n",
       "    }\n",
       "\n",
       "    .dataframe thead tr:last-of-type th {\n",
       "        text-align: right;\n",
       "    }\n",
       "</style>\n",
       "<table border=\"1\" class=\"dataframe\">\n",
       "  <thead>\n",
       "    <tr>\n",
       "      <th>label</th>\n",
       "    </tr>\n",
       "  </thead>\n",
       "  <tbody>\n",
       "    <tr>\n",
       "      <th>apple</th>\n",
       "    </tr>\n",
       "    <tr>\n",
       "      <th>banana</th>\n",
       "    </tr>\n",
       "    <tr>\n",
       "      <th>blackgram</th>\n",
       "    </tr>\n",
       "    <tr>\n",
       "      <th>chickpea</th>\n",
       "    </tr>\n",
       "    <tr>\n",
       "      <th>coconut</th>\n",
       "    </tr>\n",
       "    <tr>\n",
       "      <th>coffee</th>\n",
       "    </tr>\n",
       "    <tr>\n",
       "      <th>cotton</th>\n",
       "    </tr>\n",
       "    <tr>\n",
       "      <th>grapes</th>\n",
       "    </tr>\n",
       "    <tr>\n",
       "      <th>jute</th>\n",
       "    </tr>\n",
       "    <tr>\n",
       "      <th>kidneybeans</th>\n",
       "    </tr>\n",
       "    <tr>\n",
       "      <th>lentil</th>\n",
       "    </tr>\n",
       "    <tr>\n",
       "      <th>maize</th>\n",
       "    </tr>\n",
       "    <tr>\n",
       "      <th>mango</th>\n",
       "    </tr>\n",
       "    <tr>\n",
       "      <th>mothbeans</th>\n",
       "    </tr>\n",
       "    <tr>\n",
       "      <th>mungbean</th>\n",
       "    </tr>\n",
       "    <tr>\n",
       "      <th>muskmelon</th>\n",
       "    </tr>\n",
       "    <tr>\n",
       "      <th>orange</th>\n",
       "    </tr>\n",
       "    <tr>\n",
       "      <th>papaya</th>\n",
       "    </tr>\n",
       "    <tr>\n",
       "      <th>pigeonpeas</th>\n",
       "    </tr>\n",
       "    <tr>\n",
       "      <th>pomegranate</th>\n",
       "    </tr>\n",
       "    <tr>\n",
       "      <th>rice</th>\n",
       "    </tr>\n",
       "    <tr>\n",
       "      <th>watermelon</th>\n",
       "    </tr>\n",
       "  </tbody>\n",
       "</table>\n",
       "</div>"
      ],
      "text/plain": [
       "Empty DataFrame\n",
       "Columns: []\n",
       "Index: [apple, banana, blackgram, chickpea, coconut, coffee, cotton, grapes, jute, kidneybeans, lentil, maize, mango, mothbeans, mungbean, muskmelon, orange, papaya, pigeonpeas, pomegranate, rice, watermelon]"
      ]
     },
     "execution_count": 9,
     "metadata": {},
     "output_type": "execute_result"
    }
   ],
   "source": [
    "pd.pivot_table(cp,index='label', \n",
    "              columns=['N', 'P', 'K', 'temperature', 'humidity', 'ph', 'rainfall', 'label'])"
   ]
  },
  {
   "cell_type": "code",
   "execution_count": 10,
   "id": "756debb7-8d9a-4fd7-b652-0ba4d6b2ca68",
   "metadata": {
    "tags": []
   },
   "outputs": [],
   "source": [
    "from sklearn.model_selection import train_test_split\n"
   ]
  },
  {
   "cell_type": "code",
   "execution_count": 11,
   "id": "725a1231-5758-4508-b1bf-6677f3a74092",
   "metadata": {
    "tags": []
   },
   "outputs": [],
   "source": [
    "X_train, X_test, Y_train, Y_test=train_test_split(X,y,test_size=0.2, random_state=42)"
   ]
  },
  {
   "cell_type": "code",
   "execution_count": 12,
   "id": "6b4774a5-c42a-436b-815e-f90aa0816096",
   "metadata": {
    "tags": []
   },
   "outputs": [
    {
     "data": {
      "text/plain": [
       "((1760, 7), (440, 7), (1760,), (440,))"
      ]
     },
     "execution_count": 12,
     "metadata": {},
     "output_type": "execute_result"
    }
   ],
   "source": [
    "X_train.shape, X_test.shape, Y_train.shape, Y_test.shape"
   ]
  },
  {
   "cell_type": "code",
   "execution_count": 13,
   "id": "566d2377-0ef2-4430-a96b-91c78adcda94",
   "metadata": {
    "tags": []
   },
   "outputs": [],
   "source": [
    "# importing our models and metrics\n",
    "\n",
    "from sklearn.ensemble import RandomForestClassifier\n",
    "from sklearn.tree import DecisionTreeClassifier\n",
    "from sklearn.linear_model import LogisticRegression\n",
    "from sklearn.svm import SVC\n",
    "from xgboost import XGBClassifier\n",
    "import seaborn as sns\n",
    "\n",
    "from sklearn.metrics import accuracy_score, precision_score, recall_score, f1_score, confusion_matrix, classification_report"
   ]
  },
  {
   "cell_type": "markdown",
   "id": "6a2fa0ff",
   "metadata": {},
   "source": [
    "<h2> Logistic Regression </h2>"
   ]
  },
  {
   "cell_type": "code",
   "execution_count": 14,
   "id": "81a67c9a",
   "metadata": {},
   "outputs": [
    {
     "name": "stderr",
     "output_type": "stream",
     "text": [
      "C:\\Users\\kunas\\anaconda3\\lib\\site-packages\\sklearn\\linear_model\\_logistic.py:814: ConvergenceWarning: lbfgs failed to converge (status=1):\n",
      "STOP: TOTAL NO. of ITERATIONS REACHED LIMIT.\n",
      "\n",
      "Increase the number of iterations (max_iter) or scale the data as shown in:\n",
      "    https://scikit-learn.org/stable/modules/preprocessing.html\n",
      "Please also refer to the documentation for alternative solver options:\n",
      "    https://scikit-learn.org/stable/modules/linear_model.html#logistic-regression\n",
      "  n_iter_i = _check_optimize_result(\n"
     ]
    },
    {
     "name": "stdout",
     "output_type": "stream",
     "text": [
      "              precision    recall  f1-score   support\n",
      "\n",
      "       apple       1.00      1.00      1.00        23\n",
      "      banana       1.00      0.95      0.98        22\n",
      "   blackgram       0.75      0.83      0.79        18\n",
      "    chickpea       1.00      1.00      1.00        26\n",
      "     coconut       1.00      1.00      1.00        27\n",
      "      coffee       1.00      0.94      0.97        18\n",
      "      cotton       0.94      0.80      0.86        20\n",
      "      grapes       1.00      1.00      1.00        14\n",
      "        jute       0.87      0.91      0.89        22\n",
      " kidneybeans       0.95      1.00      0.97        19\n",
      "      lentil       0.91      0.83      0.87        12\n",
      "       maize       0.76      0.94      0.84        17\n",
      "       mango       1.00      0.95      0.97        20\n",
      "   mothbeans       0.92      0.85      0.88        26\n",
      "    mungbean       1.00      0.95      0.97        20\n",
      "   muskmelon       1.00      1.00      1.00        17\n",
      "      orange       1.00      1.00      1.00        14\n",
      "      papaya       0.91      0.95      0.93        22\n",
      "  pigeonpeas       0.91      0.95      0.93        22\n",
      " pomegranate       1.00      1.00      1.00        23\n",
      "        rice       0.89      0.89      0.89        19\n",
      "  watermelon       1.00      1.00      1.00        19\n",
      "\n",
      "    accuracy                           0.95       440\n",
      "   macro avg       0.95      0.94      0.94       440\n",
      "weighted avg       0.95      0.95      0.95       440\n",
      " \n",
      "\n",
      "AxesSubplot(0.125,0.125;0.62x0.755) \n",
      "\n",
      "Precision:  0.9463285374667674\n",
      "Accuracy:  0.9454545454545454\n",
      "Recall:  0.9439047973948057\n",
      "F1 Score:  0.9439795958107916\n"
     ]
    },
    {
     "data": {
      "image/png": "[encoded data removed]",
      "text/plain": [
       "<Figure size 432x288 with 2 Axes>"
      ]
     },
     "metadata": {
      "needs_background": "light"
     },
     "output_type": "display_data"
    }
   ],
   "source": [
    "lg = LogisticRegression(random_state=10)\n",
    "lg.fit(X_train, Y_train)\n",
    "pred1 = lg.predict(X_test)\n",
    "\n",
    "print(classification_report(pred1, Y_test), '\\n')\n",
    "print(sns.heatmap(confusion_matrix(pred1, Y_test), annot=True, cmap='coolwarm'), '\\n')\n",
    "print('Precision: ', precision_score(pred1, Y_test, average='macro'))\n",
    "print('Accuracy: ', accuracy_score(pred1, Y_test))\n",
    "print('Recall: ', recall_score(pred1, Y_test, average= 'macro'))\n",
    "print('F1 Score: ', f1_score(pred1, Y_test, average= 'macro'))"
   ]
  },
  {
   "cell_type": "markdown",
   "id": "d4353850",
   "metadata": {
    "tags": []
   },
   "source": [
    "<h2> Random Forest Classifier</h2>"
   ]
  },
  {
   "cell_type": "code",
   "execution_count": 15,
   "id": "776332bd-1ba7-49af-b86f-fabd5ddfb49c",
   "metadata": {
    "tags": []
   },
   "outputs": [
    {
     "name": "stdout",
     "output_type": "stream",
     "text": [
      "              precision    recall  f1-score   support\n",
      "\n",
      "       apple       1.00      1.00      1.00        23\n",
      "      banana       1.00      1.00      1.00        21\n",
      "   blackgram       1.00      1.00      1.00        20\n",
      "    chickpea       1.00      1.00      1.00        26\n",
      "     coconut       1.00      1.00      1.00        27\n",
      "      coffee       1.00      1.00      1.00        17\n",
      "      cotton       1.00      1.00      1.00        17\n",
      "      grapes       1.00      1.00      1.00        14\n",
      "        jute       1.00      0.92      0.96        25\n",
      " kidneybeans       1.00      1.00      1.00        20\n",
      "      lentil       1.00      1.00      1.00        11\n",
      "       maize       1.00      1.00      1.00        21\n",
      "       mango       1.00      1.00      1.00        19\n",
      "   mothbeans       1.00      1.00      1.00        24\n",
      "    mungbean       1.00      1.00      1.00        19\n",
      "   muskmelon       1.00      1.00      1.00        17\n",
      "      orange       1.00      1.00      1.00        14\n",
      "      papaya       1.00      1.00      1.00        23\n",
      "  pigeonpeas       1.00      1.00      1.00        23\n",
      " pomegranate       1.00      1.00      1.00        23\n",
      "        rice       0.89      1.00      0.94        17\n",
      "  watermelon       1.00      1.00      1.00        19\n",
      "\n",
      "    accuracy                           1.00       440\n",
      "   macro avg       1.00      1.00      1.00       440\n",
      "weighted avg       1.00      1.00      1.00       440\n",
      " \n",
      "\n",
      "Precision:  0.9952153110047847\n",
      "Accuracy:  0.9954545454545455\n",
      "Recall:  0.9963636363636365\n",
      "F1 Score:  0.9955808080808081\n"
     ]
    },
    {
     "data": {
      "image/png": "[encoded data removed]",
      "text/plain": [
       "<Figure size 432x288 with 2 Axes>"
      ]
     },
     "metadata": {
      "needs_background": "light"
     },
     "output_type": "display_data"
    }
   ],
   "source": [
    "rf = RandomForestClassifier(random_state=10)\n",
    "rf.fit(X_train, Y_train)\n",
    "pred2 = rf.predict(X_test)\n",
    "\n",
    "print(classification_report(pred2, Y_test), '\\n')\n",
    "sns.heatmap(confusion_matrix(pred2, Y_test), annot=True, cmap='coolwarm')\n",
    "\n",
    "print('Precision: ', precision_score(pred2, Y_test, average='macro'))\n",
    "print('Accuracy: ', accuracy_score(pred2, Y_test))\n",
    "print('Recall: ', recall_score(pred2, Y_test, average='macro'))\n",
    "print('F1 Score: ', f1_score(pred2, Y_test, average='macro'))"
   ]
  },
  {
   "cell_type": "markdown",
   "id": "c0dc981e",
   "metadata": {
    "tags": []
   },
   "source": [
    "<h2> Decision Tree Classifier</h2>"
   ]
  },
  {
   "cell_type": "code",
   "execution_count": 16,
   "id": "80281edc-4304-4ecd-9677-aefbea95984f",
   "metadata": {
    "tags": []
   },
   "outputs": [
    {
     "name": "stdout",
     "output_type": "stream",
     "text": [
      "              precision    recall  f1-score   support\n",
      "\n",
      "       apple       1.00      1.00      1.00        23\n",
      "      banana       1.00      1.00      1.00        21\n",
      "   blackgram       1.00      0.95      0.98        21\n",
      "    chickpea       1.00      1.00      1.00        26\n",
      "     coconut       1.00      0.96      0.98        28\n",
      "      coffee       1.00      1.00      1.00        17\n",
      "      cotton       1.00      1.00      1.00        17\n",
      "      grapes       1.00      1.00      1.00        14\n",
      "        jute       0.87      0.91      0.89        22\n",
      " kidneybeans       1.00      1.00      1.00        20\n",
      "      lentil       1.00      0.92      0.96        12\n",
      "       maize       0.95      1.00      0.98        20\n",
      "       mango       1.00      1.00      1.00        19\n",
      "   mothbeans       0.92      1.00      0.96        22\n",
      "    mungbean       1.00      1.00      1.00        19\n",
      "   muskmelon       1.00      1.00      1.00        17\n",
      "      orange       1.00      1.00      1.00        14\n",
      "      papaya       1.00      1.00      1.00        23\n",
      "  pigeonpeas       1.00      1.00      1.00        23\n",
      " pomegranate       1.00      1.00      1.00        23\n",
      "        rice       0.89      0.85      0.87        20\n",
      "  watermelon       1.00      1.00      1.00        19\n",
      "\n",
      "    accuracy                           0.98       440\n",
      "   macro avg       0.98      0.98      0.98       440\n",
      "weighted avg       0.98      0.98      0.98       440\n",
      " \n",
      "\n",
      "Precision:  0.9833340762974632\n",
      "Accuracy:  0.9818181818181818\n",
      "Recall:  0.9814738292011019\n",
      "F1 Score:  0.9821256787708151\n"
     ]
    },
    {
     "data": {
      "image/png": "[encoded data removed]",
      "text/plain": [
       "<Figure size 432x288 with 2 Axes>"
      ]
     },
     "metadata": {
      "needs_background": "light"
     },
     "output_type": "display_data"
    }
   ],
   "source": [
    "dt = DecisionTreeClassifier(random_state=10)\n",
    "dt.fit(X_train, Y_train)\n",
    "pred3 = dt.predict(X_test)\n",
    "\n",
    "print(classification_report(pred3, Y_test), '\\n')\n",
    "sns.heatmap(confusion_matrix(pred3, Y_test), annot=True, cmap='coolwarm')\n",
    "\n",
    "print('Precision: ', precision_score(pred3, Y_test, average='macro'))\n",
    "print('Accuracy: ', accuracy_score(pred3, Y_test))\n",
    "print('Recall: ', recall_score(pred3, Y_test, average='macro'))\n",
    "print('F1 Score: ', f1_score(pred3, Y_test, average='macro'))"
   ]
  },
  {
   "cell_type": "markdown",
   "id": "b004534d",
   "metadata": {
    "tags": []
   },
   "source": [
    "<h2> SVC</h2>"
   ]
  },
  {
   "cell_type": "code",
   "execution_count": 17,
   "id": "8279b66f",
   "metadata": {},
   "outputs": [
    {
     "name": "stderr",
     "output_type": "stream",
     "text": [
      "C:\\Users\\kunas\\anaconda3\\lib\\site-packages\\sklearn\\metrics\\_classification.py:1318: UndefinedMetricWarning: Recall and F-score are ill-defined and being set to 0.0 in labels with no true samples. Use `zero_division` parameter to control this behavior.\n",
      "  _warn_prf(average, modifier, msg_start, len(result))\n",
      "C:\\Users\\kunas\\anaconda3\\lib\\site-packages\\sklearn\\metrics\\_classification.py:1318: UndefinedMetricWarning: Recall and F-score are ill-defined and being set to 0.0 in labels with no true samples. Use `zero_division` parameter to control this behavior.\n",
      "  _warn_prf(average, modifier, msg_start, len(result))\n",
      "C:\\Users\\kunas\\anaconda3\\lib\\site-packages\\sklearn\\metrics\\_classification.py:1318: UndefinedMetricWarning: Recall and F-score are ill-defined and being set to 0.0 in labels with no true samples. Use `zero_division` parameter to control this behavior.\n",
      "  _warn_prf(average, modifier, msg_start, len(result))\n"
     ]
    },
    {
     "name": "stdout",
     "output_type": "stream",
     "text": [
      "              precision    recall  f1-score   support\n",
      "\n",
      "       apple       0.00      0.00      0.00         0\n",
      "      banana       0.00      0.00      0.00         0\n",
      "   blackgram       0.00      0.00      0.00         0\n",
      "    chickpea       0.00      0.00      0.00         0\n",
      "     coconut       0.00      0.00      0.00         0\n",
      "      coffee       0.00      0.00      0.00         0\n",
      "      cotton       0.00      0.00      0.00         0\n",
      "      grapes       0.00      0.00      0.00         0\n",
      "        jute       0.00      0.00      0.00         0\n",
      " kidneybeans       0.00      0.00      0.00         0\n",
      "      lentil       1.00      0.03      0.05       439\n",
      "       maize       0.00      0.00      0.00         0\n",
      "       mango       0.00      0.00      0.00         0\n",
      "   mothbeans       0.00      0.00      0.00         0\n",
      "    mungbean       0.00      0.00      0.00         0\n",
      "   muskmelon       0.06      1.00      0.11         1\n",
      "      orange       0.00      0.00      0.00         0\n",
      "      papaya       0.00      0.00      0.00         0\n",
      "  pigeonpeas       0.00      0.00      0.00         0\n",
      " pomegranate       0.00      0.00      0.00         0\n",
      "        rice       0.00      0.00      0.00         0\n",
      "  watermelon       0.00      0.00      0.00         0\n",
      "\n",
      "    accuracy                           0.03       440\n",
      "   macro avg       0.05      0.05      0.01       440\n",
      "weighted avg       1.00      0.03      0.05       440\n",
      " \n",
      "\n",
      "AxesSubplot(0.125,0.125;0.62x0.755) \n",
      "\n",
      "Precision:  0.0481283422459893\n",
      "Accuracy:  0.02727272727272727\n",
      "Recall:  0.04659349761855457\n",
      "F1 Score:  0.007272727272727272\n"
     ]
    },
    {
     "name": "stderr",
     "output_type": "stream",
     "text": [
      "C:\\Users\\kunas\\anaconda3\\lib\\site-packages\\sklearn\\metrics\\_classification.py:1318: UndefinedMetricWarning: Recall is ill-defined and being set to 0.0 in labels with no true samples. Use `zero_division` parameter to control this behavior.\n",
      "  _warn_prf(average, modifier, msg_start, len(result))\n"
     ]
    },
    {
     "data": {
      "image/png": "[encoded data removed]",
      "text/plain": [
       "<Figure size 432x288 with 2 Axes>"
      ]
     },
     "metadata": {
      "needs_background": "light"
     },
     "output_type": "display_data"
    }
   ],
   "source": [
    "svc = SVC(C=1.2, class_weight=None, gamma=0.9, kernel='rbf')\n",
    "svc.fit(X_train, Y_train)\n",
    "pred4 = svc.predict(X_test)\n",
    "\n",
    "print(classification_report(pred4, Y_test), '\\n')\n",
    "print(sns.heatmap(confusion_matrix(pred4, Y_test), annot=True, cmap='coolwarm'), '\\n')\n",
    "print('Precision: ', precision_score(pred4, Y_test, average='macro'))\n",
    "print('Accuracy: ', accuracy_score(pred4, Y_test))\n",
    "print('Recall: ', recall_score(pred4, Y_test, average= 'macro'))\n",
    "print('F1 Score: ', f1_score(pred4, Y_test, average= 'macro'))"
   ]
  },
  {
   "cell_type": "code",
   "execution_count": 19,
   "id": "62477725",
   "metadata": {},
   "outputs": [],
   "source": [
    "final_data=pd.DataFrame({'Models' : ['LR','RF','DT','SV'],\n",
    "             \"ACC\" : [accuracy_score(Y_test,pred1)*100,\n",
    "                      accuracy_score(Y_test,pred2)*100,\n",
    "                      accuracy_score(Y_test,pred3)*100,\n",
    "                      accuracy_score(Y_test,pred4)*100\n",
    "                     ]})"
   ]
  },
  {
   "cell_type": "code",
   "execution_count": 20,
   "id": "64bc9738",
   "metadata": {},
   "outputs": [
    {
     "data": {
      "text/html": [
       "<div>\n",
       "<style scoped>\n",
       "    .dataframe tbody tr th:only-of-type {\n",
       "        vertical-align: middle;\n",
       "    }\n",
       "\n",
       "    .dataframe tbody tr th {\n",
       "        vertical-align: top;\n",
       "    }\n",
       "\n",
       "    .dataframe thead th {\n",
       "        text-align: right;\n",
       "    }\n",
       "</style>\n",
       "<table border=\"1\" class=\"dataframe\">\n",
       "  <thead>\n",
       "    <tr style=\"text-align: right;\">\n",
       "      <th></th>\n",
       "      <th>Models</th>\n",
       "      <th>ACC</th>\n",
       "    </tr>\n",
       "  </thead>\n",
       "  <tbody>\n",
       "    <tr>\n",
       "      <th>0</th>\n",
       "      <td>LR</td>\n",
       "      <td>94.545455</td>\n",
       "    </tr>\n",
       "    <tr>\n",
       "      <th>1</th>\n",
       "      <td>RF</td>\n",
       "      <td>99.545455</td>\n",
       "    </tr>\n",
       "    <tr>\n",
       "      <th>2</th>\n",
       "      <td>DT</td>\n",
       "      <td>98.181818</td>\n",
       "    </tr>\n",
       "    <tr>\n",
       "      <th>3</th>\n",
       "      <td>SV</td>\n",
       "      <td>2.727273</td>\n",
       "    </tr>\n",
       "  </tbody>\n",
       "</table>\n",
       "</div>"
      ],
      "text/plain": [
       "  Models        ACC\n",
       "0     LR  94.545455\n",
       "1     RF  99.545455\n",
       "2     DT  98.181818\n",
       "3     SV   2.727273"
      ]
     },
     "execution_count": 20,
     "metadata": {},
     "output_type": "execute_result"
    }
   ],
   "source": [
    "final_data"
   ]
  },
  {
   "cell_type": "code",
   "execution_count": 21,
   "id": "85834b95",
   "metadata": {},
   "outputs": [
    {
     "name": "stderr",
     "output_type": "stream",
     "text": [
      "C:\\Users\\kunas\\anaconda3\\lib\\site-packages\\seaborn\\_decorators.py:36: FutureWarning: Pass the following variables as keyword args: x, y. From version 0.12, the only valid positional argument will be `data`, and passing other arguments without an explicit keyword will result in an error or misinterpretation.\n",
      "  warnings.warn(\n"
     ]
    },
    {
     "data": {
      "text/plain": [
       "<AxesSubplot:xlabel='Models', ylabel='ACC'>"
      ]
     },
     "execution_count": 21,
     "metadata": {},
     "output_type": "execute_result"
    },
    {
     "data": {
      "image/png": "[encoded data removed]",
      "text/plain": [
       "<Figure size 432x288 with 1 Axes>"
      ]
     },
     "metadata": {
      "needs_background": "light"
     },
     "output_type": "display_data"
    }
   ],
   "source": [
    "sns.barplot(final_data['Models'],final_data['ACC'])"
   ]
  },
  {
   "cell_type": "code",
   "execution_count": 22,
   "id": "e51ce5b7-cb32-490d-9834-5eca44397967",
   "metadata": {},
   "outputs": [
    {
     "data": {
      "text/plain": [
       "array(['muskmelon', 'watermelon', 'papaya', 'papaya', 'apple', 'mango',\n",
       "       'apple', 'mothbeans', 'mungbean', 'lentil', 'blackgram', 'coconut',\n",
       "       'pomegranate', 'jute', 'coconut', 'pomegranate', 'apple', 'maize',\n",
       "       'papaya', 'muskmelon', 'coffee', 'papaya', 'orange', 'papaya',\n",
       "       'chickpea', 'jute', 'mungbean', 'orange', 'pigeonpeas', 'rice',\n",
       "       'pomegranate', 'mothbeans', 'jute', 'lentil', 'jute', 'blackgram',\n",
       "       'jute', 'chickpea', 'chickpea', 'kidneybeans', 'papaya', 'mango',\n",
       "       'blackgram', 'maize', 'mungbean', 'maize', 'pigeonpeas', 'coconut',\n",
       "       'muskmelon', 'maize', 'blackgram', 'coffee', 'grapes', 'mungbean',\n",
       "       'coffee', 'kidneybeans', 'cotton', 'apple', 'banana', 'blackgram',\n",
       "       'watermelon', 'coconut', 'lentil', 'orange', 'papaya',\n",
       "       'pigeonpeas', 'orange', 'rice', 'muskmelon', 'pigeonpeas',\n",
       "       'muskmelon', 'coconut', 'jute', 'banana', 'blackgram', 'papaya',\n",
       "       'banana', 'cotton', 'watermelon', 'orange', 'coffee', 'chickpea',\n",
       "       'rice', 'mothbeans', 'orange', 'mango', 'coffee', 'mothbeans',\n",
       "       'blackgram', 'pomegranate', 'maize', 'mothbeans', 'cotton',\n",
       "       'papaya', 'pigeonpeas', 'mothbeans', 'kidneybeans', 'coffee',\n",
       "       'blackgram', 'lentil', 'coconut', 'rice', 'orange', 'muskmelon',\n",
       "       'watermelon', 'kidneybeans', 'watermelon', 'banana', 'pigeonpeas',\n",
       "       'mothbeans', 'banana', 'jute', 'cotton', 'pomegranate',\n",
       "       'pigeonpeas', 'chickpea', 'maize', 'coconut', 'pomegranate',\n",
       "       'rice', 'pigeonpeas', 'grapes', 'blackgram', 'coconut', 'chickpea',\n",
       "       'blackgram', 'coconut', 'maize', 'banana', 'mothbeans', 'banana',\n",
       "       'kidneybeans', 'pomegranate', 'chickpea', 'coconut', 'orange',\n",
       "       'pigeonpeas', 'banana', 'banana', 'apple', 'kidneybeans',\n",
       "       'muskmelon', 'mungbean', 'mothbeans', 'coconut', 'maize', 'apple',\n",
       "       'coconut', 'kidneybeans', 'mothbeans', 'mungbean', 'lentil',\n",
       "       'watermelon', 'mungbean', 'pigeonpeas', 'pigeonpeas', 'pigeonpeas',\n",
       "       'kidneybeans', 'maize', 'jute', 'chickpea', 'apple', 'orange',\n",
       "       'cotton', 'rice', 'coconut', 'grapes', 'lentil', 'watermelon',\n",
       "       'grapes', 'grapes', 'blackgram', 'pomegranate', 'chickpea',\n",
       "       'coconut', 'maize', 'lentil', 'grapes', 'watermelon', 'jute',\n",
       "       'coffee', 'coffee', 'kidneybeans', 'jute', 'mothbeans',\n",
       "       'kidneybeans', 'banana', 'kidneybeans', 'coconut', 'papaya',\n",
       "       'papaya', 'mungbean', 'mango', 'pomegranate', 'watermelon',\n",
       "       'kidneybeans', 'maize', 'apple', 'blackgram', 'chickpea', 'grapes',\n",
       "       'grapes', 'banana', 'cotton', 'rice', 'pomegranate', 'mungbean',\n",
       "       'banana', 'jute', 'mungbean', 'maize', 'chickpea', 'chickpea',\n",
       "       'chickpea', 'apple', 'rice', 'kidneybeans', 'papaya', 'coffee',\n",
       "       'blackgram', 'kidneybeans', 'mango', 'mango', 'coconut', 'papaya',\n",
       "       'apple', 'chickpea', 'pomegranate', 'chickpea', 'muskmelon',\n",
       "       'apple', 'muskmelon', 'muskmelon', 'mango', 'mango', 'cotton',\n",
       "       'coconut', 'pomegranate', 'rice', 'muskmelon', 'coffee', 'papaya',\n",
       "       'mothbeans', 'maize', 'mango', 'muskmelon', 'pigeonpeas',\n",
       "       'mungbean', 'coffee', 'grapes', 'coconut', 'cotton', 'pigeonpeas',\n",
       "       'rice', 'apple', 'pomegranate', 'coffee', 'chickpea', 'cotton',\n",
       "       'jute', 'mango', 'banana', 'papaya', 'apple', 'chickpea', 'rice',\n",
       "       'pigeonpeas', 'mothbeans', 'mungbean', 'jute', 'pomegranate',\n",
       "       'grapes', 'mothbeans', 'jute', 'maize', 'coconut', 'maize',\n",
       "       'chickpea', 'banana', 'jute', 'coconut', 'jute', 'mango',\n",
       "       'muskmelon', 'apple', 'banana', 'pigeonpeas', 'blackgram',\n",
       "       'orange', 'chickpea', 'watermelon', 'banana', 'apple', 'chickpea',\n",
       "       'coffee', 'pigeonpeas', 'orange', 'apple', 'coconut', 'papaya',\n",
       "       'watermelon', 'mothbeans', 'papaya', 'chickpea', 'pomegranate',\n",
       "       'chickpea', 'papaya', 'lentil', 'apple', 'pomegranate', 'chickpea',\n",
       "       'mango', 'chickpea', 'pomegranate', 'watermelon', 'kidneybeans',\n",
       "       'mungbean', 'muskmelon', 'watermelon', 'kidneybeans', 'muskmelon',\n",
       "       'mango', 'jute', 'blackgram', 'chickpea', 'banana', 'blackgram',\n",
       "       'pigeonpeas', 'papaya', 'pigeonpeas', 'mungbean', 'coconut',\n",
       "       'cotton', 'grapes', 'apple', 'lentil', 'banana', 'jute', 'apple',\n",
       "       'pomegranate', 'apple', 'mungbean', 'muskmelon', 'coffee',\n",
       "       'coffee', 'pigeonpeas', 'jute', 'kidneybeans', 'banana', 'maize',\n",
       "       'jute', 'maize', 'pigeonpeas', 'mango', 'kidneybeans',\n",
       "       'pomegranate', 'watermelon', 'blackgram', 'maize', 'rice',\n",
       "       'mothbeans', 'kidneybeans', 'mango', 'cotton', 'papaya',\n",
       "       'mothbeans', 'cotton', 'mungbean', 'orange', 'jute', 'blackgram',\n",
       "       'mungbean', 'coffee', 'banana', 'pigeonpeas', 'papaya', 'apple',\n",
       "       'pomegranate', 'maize', 'mango', 'coconut', 'apple', 'lentil',\n",
       "       'jute', 'mothbeans', 'lentil', 'coconut', 'blackgram', 'jute',\n",
       "       'mungbean', 'cotton', 'watermelon', 'apple', 'grapes', 'coconut',\n",
       "       'grapes', 'watermelon', 'rice', 'mango', 'mango', 'coffee',\n",
       "       'pomegranate', 'banana', 'grapes', 'jute', 'orange', 'cotton',\n",
       "       'mango', 'papaya', 'muskmelon', 'mothbeans', 'jute', 'chickpea',\n",
       "       'mothbeans', 'pomegranate', 'watermelon', 'mothbeans', 'cotton',\n",
       "       'papaya', 'watermelon', 'mothbeans', 'rice', 'coconut',\n",
       "       'mothbeans', 'mothbeans', 'maize', 'rice', 'maize', 'coconut',\n",
       "       'orange', 'pomegranate', 'kidneybeans', 'watermelon', 'mungbean',\n",
       "       'blackgram', 'rice', 'rice', 'cotton', 'cotton', 'pigeonpeas'],\n",
       "      dtype=object)"
      ]
     },
     "execution_count": 22,
     "metadata": {},
     "output_type": "execute_result"
    }
   ],
   "source": [
    "y_pred=rf.predict(X_test)\n",
    "y_pred"
   ]
  },
  {
   "cell_type": "code",
   "execution_count": 23,
   "id": "dbf76677",
   "metadata": {},
   "outputs": [
    {
     "data": {
      "text/html": [
       "<div>\n",
       "<style scoped>\n",
       "    .dataframe tbody tr th:only-of-type {\n",
       "        vertical-align: middle;\n",
       "    }\n",
       "\n",
       "    .dataframe tbody tr th {\n",
       "        vertical-align: top;\n",
       "    }\n",
       "\n",
       "    .dataframe thead th {\n",
       "        text-align: right;\n",
       "    }\n",
       "</style>\n",
       "<table border=\"1\" class=\"dataframe\">\n",
       "  <thead>\n",
       "    <tr style=\"text-align: right;\">\n",
       "      <th></th>\n",
       "      <th>N</th>\n",
       "      <th>P</th>\n",
       "      <th>K</th>\n",
       "      <th>temperature</th>\n",
       "      <th>humidity</th>\n",
       "      <th>ph</th>\n",
       "      <th>rainfall</th>\n",
       "      <th>label</th>\n",
       "    </tr>\n",
       "  </thead>\n",
       "  <tbody>\n",
       "    <tr>\n",
       "      <th>0</th>\n",
       "      <td>90</td>\n",
       "      <td>42</td>\n",
       "      <td>43</td>\n",
       "      <td>20.879744</td>\n",
       "      <td>82.002744</td>\n",
       "      <td>6.502985</td>\n",
       "      <td>202.935536</td>\n",
       "      <td>rice</td>\n",
       "    </tr>\n",
       "    <tr>\n",
       "      <th>1</th>\n",
       "      <td>85</td>\n",
       "      <td>58</td>\n",
       "      <td>41</td>\n",
       "      <td>21.770462</td>\n",
       "      <td>80.319644</td>\n",
       "      <td>7.038096</td>\n",
       "      <td>226.655537</td>\n",
       "      <td>rice</td>\n",
       "    </tr>\n",
       "    <tr>\n",
       "      <th>2</th>\n",
       "      <td>60</td>\n",
       "      <td>55</td>\n",
       "      <td>44</td>\n",
       "      <td>23.004459</td>\n",
       "      <td>82.320763</td>\n",
       "      <td>7.840207</td>\n",
       "      <td>263.964248</td>\n",
       "      <td>rice</td>\n",
       "    </tr>\n",
       "    <tr>\n",
       "      <th>3</th>\n",
       "      <td>74</td>\n",
       "      <td>35</td>\n",
       "      <td>40</td>\n",
       "      <td>26.491096</td>\n",
       "      <td>80.158363</td>\n",
       "      <td>6.980401</td>\n",
       "      <td>242.864034</td>\n",
       "      <td>rice</td>\n",
       "    </tr>\n",
       "    <tr>\n",
       "      <th>4</th>\n",
       "      <td>78</td>\n",
       "      <td>42</td>\n",
       "      <td>42</td>\n",
       "      <td>20.130175</td>\n",
       "      <td>81.604873</td>\n",
       "      <td>7.628473</td>\n",
       "      <td>262.717340</td>\n",
       "      <td>rice</td>\n",
       "    </tr>\n",
       "    <tr>\n",
       "      <th>...</th>\n",
       "      <td>...</td>\n",
       "      <td>...</td>\n",
       "      <td>...</td>\n",
       "      <td>...</td>\n",
       "      <td>...</td>\n",
       "      <td>...</td>\n",
       "      <td>...</td>\n",
       "      <td>...</td>\n",
       "    </tr>\n",
       "    <tr>\n",
       "      <th>2195</th>\n",
       "      <td>107</td>\n",
       "      <td>34</td>\n",
       "      <td>32</td>\n",
       "      <td>26.774637</td>\n",
       "      <td>66.413269</td>\n",
       "      <td>6.780064</td>\n",
       "      <td>177.774507</td>\n",
       "      <td>coffee</td>\n",
       "    </tr>\n",
       "    <tr>\n",
       "      <th>2196</th>\n",
       "      <td>99</td>\n",
       "      <td>15</td>\n",
       "      <td>27</td>\n",
       "      <td>27.417112</td>\n",
       "      <td>56.636362</td>\n",
       "      <td>6.086922</td>\n",
       "      <td>127.924610</td>\n",
       "      <td>coffee</td>\n",
       "    </tr>\n",
       "    <tr>\n",
       "      <th>2197</th>\n",
       "      <td>118</td>\n",
       "      <td>33</td>\n",
       "      <td>30</td>\n",
       "      <td>24.131797</td>\n",
       "      <td>67.225123</td>\n",
       "      <td>6.362608</td>\n",
       "      <td>173.322839</td>\n",
       "      <td>coffee</td>\n",
       "    </tr>\n",
       "    <tr>\n",
       "      <th>2198</th>\n",
       "      <td>117</td>\n",
       "      <td>32</td>\n",
       "      <td>34</td>\n",
       "      <td>26.272418</td>\n",
       "      <td>52.127394</td>\n",
       "      <td>6.758793</td>\n",
       "      <td>127.175293</td>\n",
       "      <td>coffee</td>\n",
       "    </tr>\n",
       "    <tr>\n",
       "      <th>2199</th>\n",
       "      <td>104</td>\n",
       "      <td>18</td>\n",
       "      <td>30</td>\n",
       "      <td>23.603016</td>\n",
       "      <td>60.396475</td>\n",
       "      <td>6.779833</td>\n",
       "      <td>140.937041</td>\n",
       "      <td>coffee</td>\n",
       "    </tr>\n",
       "  </tbody>\n",
       "</table>\n",
       "<p>2200 rows × 8 columns</p>\n",
       "</div>"
      ],
      "text/plain": [
       "        N   P   K  temperature   humidity        ph    rainfall   label\n",
       "0      90  42  43    20.879744  82.002744  6.502985  202.935536    rice\n",
       "1      85  58  41    21.770462  80.319644  7.038096  226.655537    rice\n",
       "2      60  55  44    23.004459  82.320763  7.840207  263.964248    rice\n",
       "3      74  35  40    26.491096  80.158363  6.980401  242.864034    rice\n",
       "4      78  42  42    20.130175  81.604873  7.628473  262.717340    rice\n",
       "...   ...  ..  ..          ...        ...       ...         ...     ...\n",
       "2195  107  34  32    26.774637  66.413269  6.780064  177.774507  coffee\n",
       "2196   99  15  27    27.417112  56.636362  6.086922  127.924610  coffee\n",
       "2197  118  33  30    24.131797  67.225123  6.362608  173.322839  coffee\n",
       "2198  117  32  34    26.272418  52.127394  6.758793  127.175293  coffee\n",
       "2199  104  18  30    23.603016  60.396475  6.779833  140.937041  coffee\n",
       "\n",
       "[2200 rows x 8 columns]"
      ]
     },
     "execution_count": 23,
     "metadata": {},
     "output_type": "execute_result"
    }
   ],
   "source": [
    "cp"
   ]
  },
  {
   "cell_type": "code",
   "execution_count": 24,
   "id": "ce05f53a",
   "metadata": {},
   "outputs": [
    {
     "data": {
      "text/plain": [
       "array([[107.      ,  34.      ,  32.      ,  26.774637,  66.413269,\n",
       "          6.780064, 177.774507]])"
      ]
     },
     "execution_count": 24,
     "metadata": {},
     "output_type": "execute_result"
    }
   ],
   "source": [
    "import numpy as np\n",
    "i = np.array([107, 34, 32, 26.774637, 66.413269, 6.780064, 177.774507]).reshape(1,-1)\n",
    "i"
   ]
  },
  {
   "cell_type": "code",
   "execution_count": 25,
   "id": "ad517dc0",
   "metadata": {},
   "outputs": [
    {
     "data": {
      "text/plain": [
       "array([[ 17.      , 134.      , 367.      ,   2.774637,  90.413269,\n",
       "         62.780064,  17.774507]])"
      ]
     },
     "execution_count": 25,
     "metadata": {},
     "output_type": "execute_result"
    }
   ],
   "source": [
    "import numpy as np\n",
    "i2 = np.array([17, 134, 367, 2.774637, 90.413269, 62.780064, 17.774507]).reshape(1,-1)\n",
    "i2"
   ]
  },
  {
   "cell_type": "code",
   "execution_count": 26,
   "id": "e1d71006",
   "metadata": {},
   "outputs": [
    {
     "data": {
      "text/plain": [
       "array([[107.      ,  34.      ,  32.      ,  26.774637,  66.413269,\n",
       "          6.780064, 177.774507]])"
      ]
     },
     "execution_count": 26,
     "metadata": {},
     "output_type": "execute_result"
    }
   ],
   "source": [
    "i"
   ]
  },
  {
   "cell_type": "code",
   "execution_count": 27,
   "id": "5e150570",
   "metadata": {},
   "outputs": [
    {
     "name": "stderr",
     "output_type": "stream",
     "text": [
      "C:\\Users\\kunas\\anaconda3\\lib\\site-packages\\sklearn\\base.py:450: UserWarning: X does not have valid feature names, but RandomForestClassifier was fitted with feature names\n",
      "  warnings.warn(\n"
     ]
    },
    {
     "data": {
      "text/plain": [
       "'grapes'"
      ]
     },
     "execution_count": 27,
     "metadata": {},
     "output_type": "execute_result"
    }
   ],
   "source": [
    "y_pred=rf.predict(i2)\n",
    "y_pred[0]"
   ]
  },
  {
   "cell_type": "code",
   "execution_count": 28,
   "id": "3a123c5f",
   "metadata": {},
   "outputs": [],
   "source": [
    "import pickle as pkl"
   ]
  },
  {
   "cell_type": "code",
   "execution_count": 29,
   "id": "ff131d0e",
   "metadata": {},
   "outputs": [],
   "source": [
    "pkl.dump(rf, open(\"rf.pkl\", \"wb\"))"
   ]
  },
  {
   "cell_type": "code",
   "execution_count": 30,
   "id": "4d277887",
   "metadata": {},
   "outputs": [
    {
     "name": "stderr",
     "output_type": "stream",
     "text": [
      "C:\\Users\\kunas\\anaconda3\\lib\\site-packages\\sklearn\\base.py:450: UserWarning: X does not have valid feature names, but RandomForestClassifier was fitted with feature names\n",
      "  warnings.warn(\n"
     ]
    }
   ],
   "source": [
    "def pred(n,p,k,t,h,ph,rf):\n",
    "            model=pkl.load(open('rf.pkl','rb'))\n",
    "            return model.predict([[n,p,k,t,h,ph,rf]])[0]\n",
    "        \n",
    "ans = pred(1,1,1,1,1,1,1)"
   ]
  },
  {
   "cell_type": "code",
   "execution_count": 31,
   "id": "82086f87",
   "metadata": {},
   "outputs": [
    {
     "data": {
      "text/plain": [
       "'kidneybeans'"
      ]
     },
     "execution_count": 31,
     "metadata": {},
     "output_type": "execute_result"
    }
   ],
   "source": [
    "ans"
   ]
  },
  {
   "cell_type": "code",
   "execution_count": null,
   "id": "5da6c091",
   "metadata": {},
   "outputs": [],
   "source": []
  }
 ],
 "metadata": {
  "kernelspec": {
   "display_name": "Python 3 (ipykernel)",
   "language": "python",
   "name": "python3"
  },
  "language_info": {
   "codemirror_mode": {
    "name": "ipython",
    "version": 3
   },
   "file_extension": ".py",
   "mimetype": "text/x-python",
   "name": "python",
   "nbconvert_exporter": "python",
   "pygments_lexer": "ipython3",
   "version": "3.9.12"
  }
 },
 "nbformat": 4,
 "nbformat_minor": 5
}
